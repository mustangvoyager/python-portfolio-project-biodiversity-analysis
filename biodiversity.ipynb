{
 "cells": [
  {
   "cell_type": "markdown",
   "metadata": {},
   "source": [
    "### Portfolio Project"
   ]
  },
  {
   "cell_type": "markdown",
   "metadata": {},
   "source": [
    "# Biodiversity in National Parks"
   ]
  },
  {
   "cell_type": "markdown",
   "metadata": {},
   "source": [
    "I used a pair of provided csv files to perform the analyses below. An initial peek at these file reveals that the category for \"conservation status\" is missing a great deal of data.\n",
    "\n",
    "I will use these plain text files as the basis for the following demonstrations of statistical analysis and data representation.\n",
    "***\n",
    "The csv's are fairly limited here. While I've included elements of what one could expect to find in an analysis of the topic, I'm doing more of a demonstration of what Python and its libraries are capable of providing to the data scientist. This includes showing alternate visualizations, as well as stripping back and building up the code while playing around with function parameters so that I can learn as much as I can."
   ]
  },
  {
   "cell_type": "code",
   "execution_count": 9,
   "metadata": {},
   "outputs": [],
   "source": [
    "import pandas as pd\n",
    "import numpy as np\n",
    "import seaborn as sns\n",
    "from matplotlib import pyplot as plt"
   ]
  },
  {
   "cell_type": "markdown",
   "metadata": {},
   "source": [
    "Armed with the libraries above, my first task is to read in the plain text files as (pandas) dataframes. I'll also print out the dimensions of each of the dataframes using `.shape`"
   ]
  },
  {
   "cell_type": "code",
   "execution_count": 10,
   "metadata": {},
   "outputs": [
    {
     "name": "stdout",
     "output_type": "stream",
     "text": [
      "            scientific_name                            park_name  observations\n",
      "0        Vicia benghalensis  Great Smoky Mountains National Park            68\n",
      "1            Neovison vison  Great Smoky Mountains National Park            77\n",
      "2         Prunus subcordata               Yosemite National Park           138\n",
      "3      Abutilon theophrasti                  Bryce National Park            84\n",
      "4  Githopsis specularioides  Great Smoky Mountains National Park            85\n",
      "\n",
      "\n",
      "  category                scientific_name  \\\n",
      "0   Mammal  Clethrionomys gapperi gapperi   \n",
      "1   Mammal                      Bos bison   \n",
      "2   Mammal                     Bos taurus   \n",
      "3   Mammal                     Ovis aries   \n",
      "4   Mammal                 Cervus elaphus   \n",
      "\n",
      "                                        common_names conservation_status  \n",
      "0                           Gapper's Red-Backed Vole                 NaN  \n",
      "1                              American Bison, Bison                 NaN  \n",
      "2  Aurochs, Aurochs, Domestic Cattle (Feral), Dom...                 NaN  \n",
      "3  Domestic Sheep, Mouflon, Red Sheep, Sheep (Feral)                 NaN  \n",
      "4                                      Wapiti Or Elk                 NaN  \n",
      "\n",
      "\n",
      "The dimensions of observations are (23296, 3) and the dimensions of species_info are (5824, 4)\n",
      "\n"
     ]
    }
   ],
   "source": [
    "observations = pd.read_csv('observations.csv', encoding='utf-8')\n",
    "print(observations.head())\n",
    "print()\n",
    "print()\n",
    "species_info = pd.read_csv('species_info.csv', encoding='utf-8')\n",
    "print(species_info.head())\n",
    "print()\n",
    "print()\n",
    "print('The dimensions of observations are {} and the dimensions of species_info are {}'.format(observations.shape, species_info.shape))\n",
    "print()"
   ]
  },
  {
   "cell_type": "markdown",
   "metadata": {},
   "source": [
    "Tearing into `species_info` a bit... \n",
    "- How many `category`s of life are there?\n",
    "- What are the names of the `category`s?\n",
    "- How are they distributed?\n",
    "\n",
    "Now examine the names.\n",
    "- How many `common_names`?\n",
    "- Are there the same number of `scientific_name`s?\n",
    "\n",
    "How many categories of `conservation_status`, and what are their names?"
   ]
  },
  {
   "cell_type": "code",
   "execution_count": 11,
   "metadata": {},
   "outputs": [
    {
     "name": "stdout",
     "output_type": "stream",
     "text": [
      "Number of different `category`s: 7\n",
      "\n",
      "category names: ['Mammal' 'Bird' 'Reptile' 'Amphibian' 'Fish' 'Vascular Plant'\n",
      " 'Nonvascular Plant']\n",
      "\n",
      "category\n",
      "Amphibian              80\n",
      "Bird                  521\n",
      "Fish                  127\n",
      "Mammal                214\n",
      "Nonvascular Plant     333\n",
      "Reptile                79\n",
      "Vascular Plant       4470\n",
      "dtype: int64\n",
      "\n",
      "\n",
      "The number of species names (scientific): 5541\n",
      "The number of species names (common names): 5504\n",
      "\n",
      "The number of different categories of Conservation Status is 4\n",
      "[nan 'Species of Concern' 'Endangered' 'Threatened' 'In Recovery']\n",
      "\n"
     ]
    }
   ],
   "source": [
    "print(f'Number of different `category`s: {species_info.category.nunique()}')\n",
    "print()\n",
    "print(f'category names: {species_info.category.unique()}')\n",
    "print()\n",
    "print(species_info.groupby(\"category\").size())\n",
    "print()\n",
    "print()\n",
    "print(f'The number of species names (scientific): {species_info.scientific_name.nunique()}')\n",
    "print(f'The number of species names (common names): {species_info.common_names.nunique()}')\n",
    "print()\n",
    "print(f'The number of different categories of Conservation Status is {species_info.conservation_status.nunique()}')\n",
    "print(species_info.conservation_status.unique())\n",
    "print()"
   ]
  },
  {
   "cell_type": "markdown",
   "metadata": {},
   "source": [
    "Commonality of name usage?"
   ]
  },
  {
   "cell_type": "code",
   "execution_count": 12,
   "metadata": {},
   "outputs": [
    {
     "name": "stdout",
     "output_type": "stream",
     "text": [
      "Duplicate scientific names: 283\n",
      "Duplicate common names: 320\n",
      "\n"
     ]
    }
   ],
   "source": [
    "print('Duplicate scientific names: {}'.format(species_info.scientific_name.duplicated().sum()))\n",
    "print('Duplicate common names: {}'.format(species_info.common_names.duplicated().sum()))\n",
    "print()"
   ]
  },
  {
   "cell_type": "markdown",
   "metadata": {},
   "source": [
    "There's only one quantitative description in df observations. What other ways can we use .describe()? What other things can it tell us?"
   ]
  },
  {
   "cell_type": "code",
   "execution_count": 13,
   "metadata": {},
   "outputs": [
    {
     "name": "stdout",
     "output_type": "stream",
     "text": [
      "       observations\n",
      "count  23296.000000\n",
      "mean     142.287904\n",
      "std       69.890532\n",
      "min        9.000000\n",
      "25%       86.000000\n",
      "50%      124.000000\n",
      "75%      195.000000\n",
      "max      321.000000\n",
      "\n",
      "         scientific_name                            park_name  observations\n",
      "count              23296                                23296  23296.000000\n",
      "unique              5541                                    4           NaN\n",
      "top     Myotis lucifugus  Great Smoky Mountains National Park           NaN\n",
      "freq                  12                                 5824           NaN\n",
      "mean                 NaN                                  NaN    142.287904\n",
      "std                  NaN                                  NaN     69.890532\n",
      "min                  NaN                                  NaN      9.000000\n",
      "25%                  NaN                                  NaN     86.000000\n",
      "50%                  NaN                                  NaN    124.000000\n",
      "75%                  NaN                                  NaN    195.000000\n",
      "max                  NaN                                  NaN    321.000000\n",
      "\n",
      "count    23296.000000\n",
      "mean       142.287904\n",
      "std         69.890532\n",
      "min          9.000000\n",
      "25%         86.000000\n",
      "50%        124.000000\n",
      "75%        195.000000\n",
      "max        321.000000\n",
      "Name: observations, dtype: float64\n",
      "\n",
      "There's only 4 parks in here: ['Great Smoky Mountains National Park' 'Yosemite National Park'\n",
      " 'Bryce National Park' 'Yellowstone National Park']\n",
      "\n",
      "The sum total of observations in the observations column is 3314739.\n",
      "This number approximates to the row count, times the mean.\n",
      "\n"
     ]
    }
   ],
   "source": [
    "print(observations.describe())\n",
    "print()\n",
    "print(observations.describe(include='all'))\n",
    "print()\n",
    "# The .describe() below yields the same as the first one above sinces there's only one numeric column.\n",
    "print(observations.observations.describe())\n",
    "# This one's different:\n",
    "#print(observations.observations.describe(percentiles=[0.001, 0.01, 0.1, 0.9]))\n",
    "print()\n",
    "print(f'There\\'s only 4 parks in here: {observations.park_name.unique()}')\n",
    "print()\n",
    "print('The sum total of observations in the observations column is {}.\\nThis number approximates to the row count, times the mean.'.format(observations.observations.sum()))\n",
    "print()"
   ]
  },
  {
   "cell_type": "markdown",
   "metadata": {},
   "source": [
    "Note how the word *observation* is used in two distincly different contexts here!\n",
    "\n",
    "There are over 23,000 *rows*, but there are over 3.3 *million* listed observations in total. The average number of **observations** listed in the observations column is 142, but the standard deviation is high: the maximum number of these listed observations is over 300, but there are as few as 9 in some cases. The other 3 values associated with the *five-number summary* are:\n",
    "- 86 species observations is a value at the top of the 25th percentile.\n",
    "- 124 species observations represents the medium percentile.\n",
    "- 195 is the number of species observations topping the upper percentile - which is 75% in this case since I used the default percentile list. (There are nearly two-and-a-half-million observations of plants and animals where the sum total of observations *for that particular species* was less than 195.)"
   ]
  },
  {
   "cell_type": "markdown",
   "metadata": {},
   "source": [
    "Precisely how much `conservation_status` information is missing from the `species_info` df?"
   ]
  },
  {
   "cell_type": "code",
   "execution_count": 14,
   "metadata": {},
   "outputs": [
    {
     "name": "stdout",
     "output_type": "stream",
     "text": [
      "~97%\n",
      "\n"
     ]
    }
   ],
   "source": [
    "maxRows = len(species_info)\n",
    "#print(species_info.count())\n",
    "#print()\n",
    "#print(maxRows)\n",
    "print('~{}%'.format(round((1 - species_info.conservation_status.count() / maxRows) * 100)))\n",
    "print()"
   ]
  },
  {
   "cell_type": "markdown",
   "metadata": {},
   "source": [
    "Before beginning any sort of **analysis**, I want to git rid of the Conservation Status nan's."
   ]
  },
  {
   "cell_type": "code",
   "execution_count": 15,
   "metadata": {},
   "outputs": [
    {
     "name": "stdout",
     "output_type": "stream",
     "text": [
      "conservation_status\n",
      "Endangered              16\n",
      "In Recovery              4\n",
      "Species of Concern     161\n",
      "Threatened              10\n",
      "not categorized       5633\n",
      "dtype: int64\n",
      "\n",
      "conservation_status  Endangered  In Recovery  Species of Concern  Threatened  \\\n",
      "category                                                                       \n",
      "Amphibian                   1.0          NaN                 4.0         2.0   \n",
      "Bird                        4.0          3.0                72.0         NaN   \n",
      "Fish                        3.0          NaN                 4.0         4.0   \n",
      "Mammal                      7.0          1.0                28.0         2.0   \n",
      "Nonvascular Plant           NaN          NaN                 5.0         NaN   \n",
      "Reptile                     NaN          NaN                 5.0         NaN   \n",
      "Vascular Plant              1.0          NaN                43.0         2.0   \n",
      "\n",
      "conservation_status  not categorized  \n",
      "category                              \n",
      "Amphibian                       73.0  \n",
      "Bird                           442.0  \n",
      "Fish                           116.0  \n",
      "Mammal                         176.0  \n",
      "Nonvascular Plant              328.0  \n",
      "Reptile                         74.0  \n",
      "Vascular Plant                4424.0  \n",
      "\n",
      "\n",
      "category             Amphibian   Bird   Fish  Mammal  Nonvascular Plant  \\\n",
      "conservation_status                                                       \n",
      "Endangered                 1.0    4.0    3.0     7.0                NaN   \n",
      "In Recovery                NaN    3.0    NaN     1.0                NaN   \n",
      "Species of Concern         4.0   72.0    4.0    28.0                5.0   \n",
      "Threatened                 2.0    NaN    4.0     2.0                NaN   \n",
      "not categorized           73.0  442.0  116.0   176.0              328.0   \n",
      "\n",
      "category             Reptile  Vascular Plant  \n",
      "conservation_status                           \n",
      "Endangered               NaN             1.0  \n",
      "In Recovery              NaN             NaN  \n",
      "Species of Concern       5.0            43.0  \n",
      "Threatened               NaN             2.0  \n",
      "not categorized         74.0          4424.0  \n",
      "\n"
     ]
    }
   ],
   "source": [
    "species_info.fillna('not categorized', inplace=True)\n",
    "print(species_info.groupby('conservation_status').size())\n",
    "print()\n",
    "# Species count by status (x by y, row by column)\n",
    "count_by_status = species_info.groupby(['category', 'conservation_status'])['common_names'].count().unstack()\n",
    "print(count_by_status)\n",
    "print()\n",
    "print()\n",
    "#Status by species count (x by y, row by column)\n",
    "status_by_count = species_info.groupby(['conservation_status', 'category'])['common_names'].count().unstack()\n",
    "print(status_by_count)\n",
    "print()"
   ]
  },
  {
   "cell_type": "markdown",
   "metadata": {},
   "source": [
    "Time for a couple of bar plots."
   ]
  },
  {
   "cell_type": "code",
   "execution_count": 16,
   "metadata": {},
   "outputs": [
    {
     "data": {
      "image/png": "[encoded data removed]",
      "text/plain": [
       "<Figure size 640x480 with 1 Axes>"
      ]
     },
     "metadata": {},
     "output_type": "display_data"
    },
    {
     "data": {
      "image/png": "[encoded data removed]",
      "text/plain": [
       "<Figure size 640x480 with 1 Axes>"
      ]
     },
     "metadata": {},
     "output_type": "display_data"
    }
   ],
   "source": [
    "#from matplotlib import style\n",
    "#print(plt.style.available)\n",
    "\n",
    "# Note how the legend is the y in the plot, in both cases.\n",
    "count_by_status_wo_nocat = species_info[species_info.conservation_status != 'not categorized']\\\n",
    "    .groupby(['category', 'conservation_status'])['common_names'].count().unstack()\n",
    "#plt.style.use('fivethirtyeight') \n",
    "ax = count_by_status_wo_nocat.plot(kind = 'bar')\n",
    "ax.set_xlabel('Species')\n",
    "ax.set_ylabel('Count');\n",
    "\n",
    "status_by_count_sans_nocat = species_info[species_info.conservation_status != 'not categorized']\\\n",
    "    .groupby(['conservation_status', 'category'])['common_names'].count().unstack()\n",
    "ax = status_by_count_sans_nocat.plot(kind = 'bar')\n",
    "ax.set_xlabel('Status')\n",
    "ax.set_ylabel('Species Count');"
   ]
  },
  {
   "cell_type": "markdown",
   "metadata": {},
   "source": [
    "I've decided to dig deeper into solution code for additional analysis ideas. I plan to continue to provide a diverse set of solutions so I can really see what this code can do. "
   ]
  },
  {
   "cell_type": "markdown",
   "metadata": {},
   "source": [
    "Question: Are some species of plants and animals more likely to be endangered?"
   ]
  },
  {
   "cell_type": "code",
   "execution_count": 17,
   "metadata": {},
   "outputs": [
    {
     "name": "stdout",
     "output_type": "stream",
     "text": [
      "            category  not_protected  protected  pct_unprotected\n",
      "0          Amphibian             72          7        91.139241\n",
      "1               Bird            413         75        84.631148\n",
      "2               Fish            115         11        91.269841\n",
      "3             Mammal            146         30        82.954545\n",
      "4  Nonvascular Plant            328          5        98.498498\n",
      "5            Reptile             73          5        93.589744\n",
      "6     Vascular Plant           4216         46        98.920695\n",
      "\n"
     ]
    }
   ],
   "source": [
    "# Recharacterize species_info into two conservation categories: protected, and not_protected\n",
    "species_info['protected'] = species_info.conservation_status != 'not categorized'\n",
    "# The .pivot() below will essentially create a new df based on the conservation categories above.\n",
    "\n",
    "# The .groupby() combines plant/animal category and the new column above as a new df. \n",
    "# The nunique for the sci names provides a count ofr the \"third column.\"\n",
    "# The (1st) .reset_index() insures plant/animal category is populated for each T/F count (prepares for pivot).\n",
    "# PIVOT - make my row labels the plant/animal category (index).\n",
    "#         make my columns a boolean of 'protected' (columns).\n",
    "#         make what's being populated here the sci name count (values).\n",
    "# The 2nd .reset_index() re-sequentializes the new df after the pivot (re-establish a proper index range from zero).\n",
    "protection_counts = species_info.groupby(['category', 'protected']).scientific_name.nunique().reset_index()\\\n",
    "    .pivot(columns='protected', index='category', values='scientific_name').reset_index()\n",
    "\n",
    "# Replace the boolean classifications with proper column names. Not_protected comes before protected b/c False comes before True.\n",
    "# As a result, the old index column header goes away since it's no longer required to define the booleans. (Is this why?) \n",
    "protection_counts.columns = ['category', 'not_protected', 'protected']\n",
    "\n",
    "# Add a column reflecting the approximate percentage of those species left unprotected.\n",
    "protection_counts['pct_unprotected'] = protection_counts.not_protected / (protection_counts.not_protected + protection_counts.protected) * 100\n",
    "print(protection_counts)\n",
    "print()"
   ]
  },
  {
   "cell_type": "markdown",
   "metadata": {},
   "source": [
    "Among other things, this table reveals that there are *far more* plant classifications than there are of the listed animal species."
   ]
  },
  {
   "cell_type": "markdown",
   "metadata": {},
   "source": [
    "Contingeny tables and the chi-squared tests are suitable for summarizing the relationship between two categorical variables."
   ]
  },
  {
   "cell_type": "code",
   "execution_count": 18,
   "metadata": {},
   "outputs": [
    {
     "name": "stdout",
     "output_type": "stream",
     "text": [
      "Chi2ContingencyResult(statistic=0.1617014831654557, pvalue=0.6875948096661336, dof=1, expected_freq=array([[ 27.8313253, 148.1686747],\n",
      "       [ 77.1686747, 410.8313253]]))\n",
      "\n"
     ]
    }
   ],
   "source": [
    "# Contingency table of Mammal and Bird, versus potected and not_protected.\n",
    "c_table = [[30,146],[75,413]]\n",
    "c_table\n",
    "\n",
    "from scipy.stats import chi2_contingency\n",
    "\n",
    "print(chi2_contingency(c_table))\n",
    "print()"
   ]
  },
  {
   "cell_type": "markdown",
   "metadata": {},
   "source": [
    "The p-value here is >> 0.05. This indicates independence between the two variables, or essentially no relationship existing between these two categories and their protected status."
   ]
  },
  {
   "cell_type": "code",
   "execution_count": 19,
   "metadata": {},
   "outputs": [
    {
     "name": "stdout",
     "output_type": "stream",
     "text": [
      "Chi2ContingencyResult(statistic=4.289183096203645, pvalue=0.03835559022969898, dof=1, expected_freq=array([[ 24.2519685, 151.7480315],\n",
      "       [ 10.7480315,  67.2519685]]))\n",
      "\n"
     ]
    }
   ],
   "source": [
    "# Contingency table of Mammal and Reptile, versus potected and not_protected.\n",
    "c_table2 = [[30,146],[5,73]]\n",
    "c_table2\n",
    "\n",
    "print(chi2_contingency(c_table2))\n",
    "print()"
   ]
  },
  {
   "cell_type": "markdown",
   "metadata": {},
   "source": [
    "Here the p-value is only 3.8%. This indicate statistical significance. \n",
    "\n",
    "Looking back at the *this* contingency table, we see that mammals in general are 6 times more likely to be protected. This largely outweighs the fact that mammals are twice as likely to be unprotected, and so we can conclude that **mammals receive a statistically higher rate of protection than do reptiles**."
   ]
  },
  {
   "cell_type": "markdown",
   "metadata": {},
   "source": [
    "## Some More Analysis"
   ]
  },
  {
   "cell_type": "markdown",
   "metadata": {},
   "source": [
    "Let's look at some different species and see in which parks they appear based on the observation data. I'll focus on mammals (since they're my species). I want to use the `common_names`.\n",
    "\n",
    "One of the problems I'm going to have relates to punctuation. If I attempt to split the words out to a list without dropping the commas, let's say, then, when I try to remove repeats I'll miss some. For example:\n",
    "\n",
    " `['Mountain', 'Goat,', 'Mountain', 'Goat,', 'Rocky', 'Mountain', 'Goat']`\n",
    " \n",
    " will become  `['Mountain', 'Goat,', 'Rocky', 'Goat']`\n",
    "\n",
    " Two `Goat`s - yikes! Fortunately the `string` library includes a pre-initialized string *constant* that provide all the different puncuation:  **'!\"#$%&\\'()*+,-./:;<=>?@[\\\\]^_`{|}~'**\n",
    " \n",
    "I can use this to create my own function that strips out all of the dashes, parentheses, commas and apostrophes. Once this is done I can more easily take care of the nouns and adjectives that repeat within each common name."
   ]
  },
  {
   "cell_type": "code",
   "execution_count": 20,
   "metadata": {},
   "outputs": [
    {
     "data": {
      "text/plain": [
       "[['Water', 'Shrew'],\n",
       " ['StarNosed', 'Mole'],\n",
       " ['HairyTailed', 'Mole'],\n",
       " ['Eastern', 'Mole'],\n",
       " ['Antelope', 'Pronghorn'],\n",
       " ['Bison', 'Buffalo'],\n",
       " ['Mountain', 'Goat', 'Mountain', 'Goat', 'Rocky', 'Mountain', 'Goat'],\n",
       " ['Bighorn', 'Sheep', 'Bighorn', 'Sheep'],\n",
       " ['Eurasian', 'Elk', 'Moose'],\n",
       " ['Yellowstone', 'Moose']]"
      ]
     },
     "execution_count": 20,
     "metadata": {},
     "output_type": "execute_result"
    }
   ],
   "source": [
    "import string\n",
    "\n",
    "def clean_out_punc(text_string):\n",
    "    for punc in string.punctuation:\n",
    "        text_string = text_string.replace(punc, '')\n",
    "    return text_string\n",
    "    \n",
    "common_nomenclature = species_info[species_info.category == \"Mammal\"].common_names.apply(clean_out_punc).str.split().tolist()\n",
    "\n",
    "common_nomenclature[86:96]"
   ]
  },
  {
   "cell_type": "markdown",
   "metadata": {},
   "source": [
    "Lots of repeats in here. Now I'll try creating a common list. The new list will be appended inside of a loop. Each item in the list is another list containing the words within each name. By transforming each sublist to a dictionary, repeats are removed since dictionaries cannot contain duplicate values (as keys)."
   ]
  },
  {
   "cell_type": "code",
   "execution_count": 21,
   "metadata": {},
   "outputs": [
    {
     "data": {
      "text/plain": [
       "[['Water', 'Shrew'],\n",
       " ['StarNosed', 'Mole'],\n",
       " ['HairyTailed', 'Mole'],\n",
       " ['Eastern', 'Mole'],\n",
       " ['Antelope', 'Pronghorn'],\n",
       " ['Bison', 'Buffalo'],\n",
       " ['Mountain', 'Goat', 'Rocky'],\n",
       " ['Bighorn', 'Sheep'],\n",
       " ['Eurasian', 'Elk', 'Moose'],\n",
       " ['Yellowstone', 'Moose']]"
      ]
     },
     "execution_count": 21,
     "metadata": {},
     "output_type": "execute_result"
    }
   ],
   "source": [
    "cleanNoman = []\n",
    "\n",
    "for item in common_nomenclature:\n",
    "    item = list(dict.fromkeys(item))\n",
    "    cleanNoman.append(item)\n",
    "    \n",
    "cleanNoman[86:96]"
   ]
  },
  {
   "cell_type": "markdown",
   "metadata": {},
   "source": [
    "With all of this done, I can now go on to join all of the sublists into one giant list. If there are repeat values in here, then it should be representative of separate and unique species. I'll use the `itertools.chain()` function."
   ]
  },
  {
   "cell_type": "code",
   "execution_count": 22,
   "metadata": {},
   "outputs": [],
   "source": [
    "from itertools import chain\n",
    "\n",
    "# This nested argument here is expected to produce iterables regardless of whether or not i is a list class. \n",
    "big_list = list(chain.from_iterable(i if isinstance(i, list) else [i] for i in cleanNoman))\n",
    "\n",
    "#for item in big_list:\n",
    "#    print(item)"
   ]
  },
  {
   "cell_type": "markdown",
   "metadata": {},
   "source": [
    "From the common list, I can tabulate instances of each word\n",
    "\n",
    "'set()' creates a set object. Sets are mutable, unordered and unique (no dupes)."
   ]
  },
  {
   "cell_type": "code",
   "execution_count": 23,
   "metadata": {},
   "outputs": [
    {
     "name": "stdout",
     "output_type": "stream",
     "text": [
      "         Word  Count\n",
      "58        Bat     23\n",
      "147     Shrew     18\n",
      "118    Myotis     17\n",
      "45      Mouse     16\n",
      "197  Chipmunk     13\n",
      "\n"
     ]
    }
   ],
   "source": [
    "word_count = []\n",
    "\n",
    "for i in big_list:\n",
    "    number_of_eyes = big_list.count(i)\n",
    "    word_count.append((i, number_of_eyes))     # Append the word, and the number of times it appears (append a pair to a).\n",
    "                                            # So the word instance and its count will appear its-count number of times in word_count.\n",
    "                                        # The set object created below will automatically remove these duplicates!!\n",
    "\n",
    "word_count_set = pd.DataFrame(set(word_count), columns =['Word', 'Count']).sort_values(\"Count\", ascending = False)\n",
    "print(word_count_set.head())\n",
    "print()"
   ]
  },
  {
   "cell_type": "markdown",
   "metadata": {},
   "source": [
    "I wanted to learn more about Elk (Wapiti), but there are only 3 instances of the word. The word Red shows up a lot more. And there is only one instance of Goat.\n",
    "\n",
    "I'll isolate all three by creating new boolean columns. Later I can merge `species_info` with `observations` to find which of the parks is... the reddest."
   ]
  },
  {
   "cell_type": "code",
   "execution_count": 24,
   "metadata": {},
   "outputs": [
    {
     "data": {
      "text/html": [
       "<div>\n",
       "<style scoped>\n",
       "    .dataframe tbody tr th:only-of-type {\n",
       "        vertical-align: middle;\n",
       "    }\n",
       "\n",
       "    .dataframe tbody tr th {\n",
       "        vertical-align: top;\n",
       "    }\n",
       "\n",
       "    .dataframe thead th {\n",
       "        text-align: right;\n",
       "    }\n",
       "</style>\n",
       "<table border=\"1\" class=\"dataframe\">\n",
       "  <thead>\n",
       "    <tr style=\"text-align: right;\">\n",
       "      <th></th>\n",
       "      <th>category</th>\n",
       "      <th>scientific_name</th>\n",
       "      <th>common_names</th>\n",
       "      <th>conservation_status</th>\n",
       "      <th>protected</th>\n",
       "      <th>with_elk</th>\n",
       "    </tr>\n",
       "  </thead>\n",
       "  <tbody>\n",
       "    <tr>\n",
       "      <th>4</th>\n",
       "      <td>Mammal</td>\n",
       "      <td>Cervus elaphus</td>\n",
       "      <td>Wapiti Or Elk</td>\n",
       "      <td>not categorized</td>\n",
       "      <td>False</td>\n",
       "      <td>True</td>\n",
       "    </tr>\n",
       "    <tr>\n",
       "      <th>3015</th>\n",
       "      <td>Mammal</td>\n",
       "      <td>Alces alces</td>\n",
       "      <td>Eurasian Elk, Moose</td>\n",
       "      <td>not categorized</td>\n",
       "      <td>False</td>\n",
       "      <td>True</td>\n",
       "    </tr>\n",
       "    <tr>\n",
       "      <th>3017</th>\n",
       "      <td>Mammal</td>\n",
       "      <td>Cervus elaphus</td>\n",
       "      <td>Rocky Mountain Elk</td>\n",
       "      <td>not categorized</td>\n",
       "      <td>False</td>\n",
       "      <td>True</td>\n",
       "    </tr>\n",
       "    <tr>\n",
       "      <th>3436</th>\n",
       "      <td>Vascular Plant</td>\n",
       "      <td>Cirsium foliosum</td>\n",
       "      <td>Drummond's Thistle, Elk Thistle, Leafy Thistle...</td>\n",
       "      <td>not categorized</td>\n",
       "      <td>False</td>\n",
       "      <td>True</td>\n",
       "    </tr>\n",
       "    <tr>\n",
       "      <th>4087</th>\n",
       "      <td>Vascular Plant</td>\n",
       "      <td>Carex geyeri</td>\n",
       "      <td>Elk Sedge, Geyer's Sedge</td>\n",
       "      <td>not categorized</td>\n",
       "      <td>False</td>\n",
       "      <td>True</td>\n",
       "    </tr>\n",
       "  </tbody>\n",
       "</table>\n",
       "</div>"
      ],
      "text/plain": [
       "            category   scientific_name  \\\n",
       "4             Mammal    Cervus elaphus   \n",
       "3015          Mammal       Alces alces   \n",
       "3017          Mammal    Cervus elaphus   \n",
       "3436  Vascular Plant  Cirsium foliosum   \n",
       "4087  Vascular Plant      Carex geyeri   \n",
       "\n",
       "                                           common_names conservation_status  \\\n",
       "4                                         Wapiti Or Elk     not categorized   \n",
       "3015                                Eurasian Elk, Moose     not categorized   \n",
       "3017                                 Rocky Mountain Elk     not categorized   \n",
       "3436  Drummond's Thistle, Elk Thistle, Leafy Thistle...     not categorized   \n",
       "4087                           Elk Sedge, Geyer's Sedge     not categorized   \n",
       "\n",
       "      protected  with_elk  \n",
       "4         False      True  \n",
       "3015      False      True  \n",
       "3017      False      True  \n",
       "3436      False      True  \n",
       "4087      False      True  "
      ]
     },
     "execution_count": 24,
     "metadata": {},
     "output_type": "execute_result"
    }
   ],
   "source": [
    "# Using .contains() string attribute (str) with regex. For the regex, I can use the raw-string prefix, r, or escape, \\.\n",
    "species_info['with_elk'] = species_info.common_names.str.contains(r\"\\bElk\\b\", regex = True)\n",
    "\n",
    "species_info.head(10)\n",
    "species_info[species_info.with_elk]"
   ]
  },
  {
   "cell_type": "markdown",
   "metadata": {},
   "source": [
    "Cervus elaphus shows up twice with 3 different names. Also... a thistle, a grass, and a Eurasian moose. (So 5 instances here, but recall how `word_count_set` was built from the `category` **Mammal**.) Moose are called elk/elks in Eurasia, but are a distinct species as shown above. "
   ]
  },
  {
   "cell_type": "code",
   "execution_count": 25,
   "metadata": {},
   "outputs": [
    {
     "name": "stdout",
     "output_type": "stream",
     "text": [
      "Gapper's Red-Backed Vole\n",
      "Domestic Sheep, Mouflon, Red Sheep, Sheep (Feral)\n",
      "Red Wolf\n",
      "Black Fox, Cross Fox, Red Fox, Silver Fox\n",
      "Red Fox\n",
      "Eastern Red Bat, Red Bat\n",
      "Southern Red-Backed Vole\n",
      "Red Squirrel\n",
      "Sierra Nevada Red Fox\n",
      "Western Red Bat\n",
      "\n"
     ]
    }
   ],
   "source": [
    "species_info['with_red'] = species_info.common_names.str.contains(r'\\bRed\\b', regex = True)\n",
    "#species_info['with_red'] = species_info.common_names.str.contains(r'\\bRed-\\b', regex = True)\n",
    "\n",
    "for item in range(len(species_info)):\n",
    "    if (species_info.category[item] == 'Mammal') and species_info.with_red[item]:\n",
    "        print(species_info.common_names[item])\n",
    "print()"
   ]
  },
  {
   "cell_type": "markdown",
   "metadata": {},
   "source": [
    "The filter gives me 10 returns even though there are 8 in `word_count_set`. This is because my `replace` function replaced punctuation with the empty string. The commented out filter above will give me 2 returns. "
   ]
  },
  {
   "cell_type": "code",
   "execution_count": 26,
   "metadata": {},
   "outputs": [
    {
     "name": "stdout",
     "output_type": "stream",
     "text": [
      "Mountain Goat, Mountain Goat, Rocky Mountain Goat\n",
      "\n"
     ]
    }
   ],
   "source": [
    "species_info['with_goat'] = species_info.common_names.str.contains('\\\\bGoat\\\\b', regex = True)\n",
    "\n",
    "for item in range(len(species_info)):\n",
    "    if (species_info.category[item] == 'Mammal') and species_info.with_goat[item]:\n",
    "        print(species_info.common_names[item])\n",
    "print()"
   ]
  },
  {
   "cell_type": "markdown",
   "metadata": {},
   "source": [
    "This is one item in `species_info`"
   ]
  },
  {
   "cell_type": "code",
   "execution_count": 27,
   "metadata": {},
   "outputs": [
    {
     "data": {
      "text/html": [
       "<div>\n",
       "<style scoped>\n",
       "    .dataframe tbody tr th:only-of-type {\n",
       "        vertical-align: middle;\n",
       "    }\n",
       "\n",
       "    .dataframe tbody tr th {\n",
       "        vertical-align: top;\n",
       "    }\n",
       "\n",
       "    .dataframe thead th {\n",
       "        text-align: right;\n",
       "    }\n",
       "</style>\n",
       "<table border=\"1\" class=\"dataframe\">\n",
       "  <thead>\n",
       "    <tr style=\"text-align: right;\">\n",
       "      <th></th>\n",
       "      <th>scientific_name</th>\n",
       "      <th>park_name</th>\n",
       "      <th>observations</th>\n",
       "      <th>category</th>\n",
       "      <th>common_names</th>\n",
       "      <th>conservation_status</th>\n",
       "      <th>protected</th>\n",
       "      <th>with_elk</th>\n",
       "      <th>with_red</th>\n",
       "      <th>with_goat</th>\n",
       "    </tr>\n",
       "  </thead>\n",
       "  <tbody>\n",
       "    <tr>\n",
       "      <th>0</th>\n",
       "      <td>Rubus idaeus ssp. strigosus</td>\n",
       "      <td>Yosemite National Park</td>\n",
       "      <td>150</td>\n",
       "      <td>Vascular Plant</td>\n",
       "      <td>American Red Raspberry</td>\n",
       "      <td>not categorized</td>\n",
       "      <td>False</td>\n",
       "      <td>False</td>\n",
       "      <td>True</td>\n",
       "      <td>False</td>\n",
       "    </tr>\n",
       "    <tr>\n",
       "      <th>1</th>\n",
       "      <td>Rubus idaeus ssp. strigosus</td>\n",
       "      <td>Great Smoky Mountains National Park</td>\n",
       "      <td>99</td>\n",
       "      <td>Vascular Plant</td>\n",
       "      <td>American Red Raspberry</td>\n",
       "      <td>not categorized</td>\n",
       "      <td>False</td>\n",
       "      <td>False</td>\n",
       "      <td>True</td>\n",
       "      <td>False</td>\n",
       "    </tr>\n",
       "    <tr>\n",
       "      <th>2</th>\n",
       "      <td>Rubus idaeus ssp. strigosus</td>\n",
       "      <td>Yellowstone National Park</td>\n",
       "      <td>245</td>\n",
       "      <td>Vascular Plant</td>\n",
       "      <td>American Red Raspberry</td>\n",
       "      <td>not categorized</td>\n",
       "      <td>False</td>\n",
       "      <td>False</td>\n",
       "      <td>True</td>\n",
       "      <td>False</td>\n",
       "    </tr>\n",
       "    <tr>\n",
       "      <th>3</th>\n",
       "      <td>Rubus idaeus ssp. strigosus</td>\n",
       "      <td>Bryce National Park</td>\n",
       "      <td>45</td>\n",
       "      <td>Vascular Plant</td>\n",
       "      <td>American Red Raspberry</td>\n",
       "      <td>not categorized</td>\n",
       "      <td>False</td>\n",
       "      <td>False</td>\n",
       "      <td>True</td>\n",
       "      <td>False</td>\n",
       "    </tr>\n",
       "    <tr>\n",
       "      <th>4</th>\n",
       "      <td>Amaranthus retroflexus</td>\n",
       "      <td>Yellowstone National Park</td>\n",
       "      <td>247</td>\n",
       "      <td>Vascular Plant</td>\n",
       "      <td>Green Amaranthus, Red-Root Amaranth</td>\n",
       "      <td>not categorized</td>\n",
       "      <td>False</td>\n",
       "      <td>False</td>\n",
       "      <td>True</td>\n",
       "      <td>False</td>\n",
       "    </tr>\n",
       "    <tr>\n",
       "      <th>...</th>\n",
       "      <td>...</td>\n",
       "      <td>...</td>\n",
       "      <td>...</td>\n",
       "      <td>...</td>\n",
       "      <td>...</td>\n",
       "      <td>...</td>\n",
       "      <td>...</td>\n",
       "      <td>...</td>\n",
       "      <td>...</td>\n",
       "      <td>...</td>\n",
       "    </tr>\n",
       "    <tr>\n",
       "      <th>371</th>\n",
       "      <td>Ovis aries</td>\n",
       "      <td>Yellowstone National Park</td>\n",
       "      <td>221</td>\n",
       "      <td>Mammal</td>\n",
       "      <td>Domestic Sheep, Mouflon, Red Sheep, Sheep (Feral)</td>\n",
       "      <td>not categorized</td>\n",
       "      <td>False</td>\n",
       "      <td>False</td>\n",
       "      <td>True</td>\n",
       "      <td>False</td>\n",
       "    </tr>\n",
       "    <tr>\n",
       "      <th>372</th>\n",
       "      <td>Agelaius phoeniceus</td>\n",
       "      <td>Yellowstone National Park</td>\n",
       "      <td>250</td>\n",
       "      <td>Bird</td>\n",
       "      <td>Red-Winged Blackbird</td>\n",
       "      <td>not categorized</td>\n",
       "      <td>False</td>\n",
       "      <td>False</td>\n",
       "      <td>True</td>\n",
       "      <td>False</td>\n",
       "    </tr>\n",
       "    <tr>\n",
       "      <th>373</th>\n",
       "      <td>Agelaius phoeniceus</td>\n",
       "      <td>Bryce National Park</td>\n",
       "      <td>97</td>\n",
       "      <td>Bird</td>\n",
       "      <td>Red-Winged Blackbird</td>\n",
       "      <td>not categorized</td>\n",
       "      <td>False</td>\n",
       "      <td>False</td>\n",
       "      <td>True</td>\n",
       "      <td>False</td>\n",
       "    </tr>\n",
       "    <tr>\n",
       "      <th>374</th>\n",
       "      <td>Agelaius phoeniceus</td>\n",
       "      <td>Yosemite National Park</td>\n",
       "      <td>155</td>\n",
       "      <td>Bird</td>\n",
       "      <td>Red-Winged Blackbird</td>\n",
       "      <td>not categorized</td>\n",
       "      <td>False</td>\n",
       "      <td>False</td>\n",
       "      <td>True</td>\n",
       "      <td>False</td>\n",
       "    </tr>\n",
       "    <tr>\n",
       "      <th>375</th>\n",
       "      <td>Agelaius phoeniceus</td>\n",
       "      <td>Great Smoky Mountains National Park</td>\n",
       "      <td>83</td>\n",
       "      <td>Bird</td>\n",
       "      <td>Red-Winged Blackbird</td>\n",
       "      <td>not categorized</td>\n",
       "      <td>False</td>\n",
       "      <td>False</td>\n",
       "      <td>True</td>\n",
       "      <td>False</td>\n",
       "    </tr>\n",
       "  </tbody>\n",
       "</table>\n",
       "<p>376 rows × 10 columns</p>\n",
       "</div>"
      ],
      "text/plain": [
       "                 scientific_name                            park_name  \\\n",
       "0    Rubus idaeus ssp. strigosus               Yosemite National Park   \n",
       "1    Rubus idaeus ssp. strigosus  Great Smoky Mountains National Park   \n",
       "2    Rubus idaeus ssp. strigosus            Yellowstone National Park   \n",
       "3    Rubus idaeus ssp. strigosus                  Bryce National Park   \n",
       "4         Amaranthus retroflexus            Yellowstone National Park   \n",
       "..                           ...                                  ...   \n",
       "371                   Ovis aries            Yellowstone National Park   \n",
       "372          Agelaius phoeniceus            Yellowstone National Park   \n",
       "373          Agelaius phoeniceus                  Bryce National Park   \n",
       "374          Agelaius phoeniceus               Yosemite National Park   \n",
       "375          Agelaius phoeniceus  Great Smoky Mountains National Park   \n",
       "\n",
       "     observations        category  \\\n",
       "0             150  Vascular Plant   \n",
       "1              99  Vascular Plant   \n",
       "2             245  Vascular Plant   \n",
       "3              45  Vascular Plant   \n",
       "4             247  Vascular Plant   \n",
       "..            ...             ...   \n",
       "371           221          Mammal   \n",
       "372           250            Bird   \n",
       "373            97            Bird   \n",
       "374           155            Bird   \n",
       "375            83            Bird   \n",
       "\n",
       "                                          common_names conservation_status  \\\n",
       "0                               American Red Raspberry     not categorized   \n",
       "1                               American Red Raspberry     not categorized   \n",
       "2                               American Red Raspberry     not categorized   \n",
       "3                               American Red Raspberry     not categorized   \n",
       "4                  Green Amaranthus, Red-Root Amaranth     not categorized   \n",
       "..                                                 ...                 ...   \n",
       "371  Domestic Sheep, Mouflon, Red Sheep, Sheep (Feral)     not categorized   \n",
       "372                               Red-Winged Blackbird     not categorized   \n",
       "373                               Red-Winged Blackbird     not categorized   \n",
       "374                               Red-Winged Blackbird     not categorized   \n",
       "375                               Red-Winged Blackbird     not categorized   \n",
       "\n",
       "     protected  with_elk  with_red  with_goat  \n",
       "0        False     False      True      False  \n",
       "1        False     False      True      False  \n",
       "2        False     False      True      False  \n",
       "3        False     False      True      False  \n",
       "4        False     False      True      False  \n",
       "..         ...       ...       ...        ...  \n",
       "371      False     False      True      False  \n",
       "372      False     False      True      False  \n",
       "373      False     False      True      False  \n",
       "374      False     False      True      False  \n",
       "375      False     False      True      False  \n",
       "\n",
       "[376 rows x 10 columns]"
      ]
     },
     "execution_count": 27,
     "metadata": {},
     "output_type": "execute_result"
    }
   ],
   "source": [
    "# Where are certain plants and animals?\n",
    "parks_with_elk = observations.merge(species_info[species_info.with_elk])\n",
    "parks_with_red = observations.merge(species_info[species_info.with_red])\n",
    "parks_with_a_goat = observations.merge(species_info[species_info.with_goat])\n",
    "parks_with_elk\n",
    "parks_with_red\n",
    "#parks_with_a_goat\n",
    "#parks_with_elk.observations.sum()\n",
    "\n",
    "#pd.set_option('display.max_rows', None)\n",
    "#pd.set_option('display.max_columns', None)\n",
    "#print(parks_with_red)"
   ]
  },
  {
   "cell_type": "markdown",
   "metadata": {},
   "source": [
    "The `parks_with_elk` dataframe includes 27 rows of species with the word \"Elk\" in the common name (including plant descriptions). The total number of *recorded* observations in these rows is 4,135.\n",
    "\n",
    "Rows with Red in the description (376 of them) include a variety of species including categories plants, birds, mammals, etc.\n",
    "\n",
    "The Mountain Goat is extant in parks in California, Utah, Wyoming (Idaho and Montana), Tennessee and North Carolina.\n",
    "***\n",
    "Elk are also on-the-scene in all four parks included in the study. Where are they seen the most?"
   ]
  },
  {
   "cell_type": "code",
   "execution_count": 28,
   "metadata": {},
   "outputs": [
    {
     "data": {
      "text/html": [
       "<div>\n",
       "<style scoped>\n",
       "    .dataframe tbody tr th:only-of-type {\n",
       "        vertical-align: middle;\n",
       "    }\n",
       "\n",
       "    .dataframe tbody tr th {\n",
       "        vertical-align: top;\n",
       "    }\n",
       "\n",
       "    .dataframe thead th {\n",
       "        text-align: right;\n",
       "    }\n",
       "</style>\n",
       "<table border=\"1\" class=\"dataframe\">\n",
       "  <thead>\n",
       "    <tr style=\"text-align: right;\">\n",
       "      <th></th>\n",
       "      <th>park_name</th>\n",
       "      <th>category</th>\n",
       "      <th>observations</th>\n",
       "    </tr>\n",
       "  </thead>\n",
       "  <tbody>\n",
       "    <tr>\n",
       "      <th>0</th>\n",
       "      <td>Bryce National Park</td>\n",
       "      <td>Mammal</td>\n",
       "      <td>467</td>\n",
       "    </tr>\n",
       "    <tr>\n",
       "      <th>1</th>\n",
       "      <td>Bryce National Park</td>\n",
       "      <td>Vascular Plant</td>\n",
       "      <td>229</td>\n",
       "    </tr>\n",
       "    <tr>\n",
       "      <th>2</th>\n",
       "      <td>Great Smoky Mountains National Park</td>\n",
       "      <td>Mammal</td>\n",
       "      <td>366</td>\n",
       "    </tr>\n",
       "    <tr>\n",
       "      <th>3</th>\n",
       "      <td>Great Smoky Mountains National Park</td>\n",
       "      <td>Vascular Plant</td>\n",
       "      <td>162</td>\n",
       "    </tr>\n",
       "    <tr>\n",
       "      <th>4</th>\n",
       "      <td>Yellowstone National Park</td>\n",
       "      <td>Mammal</td>\n",
       "      <td>1187</td>\n",
       "    </tr>\n",
       "    <tr>\n",
       "      <th>5</th>\n",
       "      <td>Yellowstone National Park</td>\n",
       "      <td>Vascular Plant</td>\n",
       "      <td>526</td>\n",
       "    </tr>\n",
       "    <tr>\n",
       "      <th>6</th>\n",
       "      <td>Yosemite National Park</td>\n",
       "      <td>Mammal</td>\n",
       "      <td>919</td>\n",
       "    </tr>\n",
       "    <tr>\n",
       "      <th>7</th>\n",
       "      <td>Yosemite National Park</td>\n",
       "      <td>Vascular Plant</td>\n",
       "      <td>279</td>\n",
       "    </tr>\n",
       "  </tbody>\n",
       "</table>\n",
       "</div>"
      ],
      "text/plain": [
       "                             park_name        category  observations\n",
       "0                  Bryce National Park          Mammal           467\n",
       "1                  Bryce National Park  Vascular Plant           229\n",
       "2  Great Smoky Mountains National Park          Mammal           366\n",
       "3  Great Smoky Mountains National Park  Vascular Plant           162\n",
       "4            Yellowstone National Park          Mammal          1187\n",
       "5            Yellowstone National Park  Vascular Plant           526\n",
       "6               Yosemite National Park          Mammal           919\n",
       "7               Yosemite National Park  Vascular Plant           279"
      ]
     },
     "execution_count": 28,
     "metadata": {},
     "output_type": "execute_result"
    }
   ],
   "source": [
    "parks_with_elk.groupby(['park_name', 'category']).observations.sum().reset_index()"
   ]
  },
  {
   "cell_type": "markdown",
   "metadata": {},
   "source": [
    "These numbers really don't tell us that much, especially without knowing more about observation methodology. It's known that elk are mostly found in the western US and Canada, but Yellowstone NP is much, much larger that the other 3 parks (Bryce Canyon NP is among the smallest in the country). \n",
    "\n",
    "The 919 observations of elk at Yosemite, compared to only 366 in the Great Smoky Mountains is perhaps the most validating of what we already know in that, while both parks are between 500 thousand and 800 thousand acres in size, there are two-and-a-half times more elk observations in the Sierras than are documented in eastern Tennessee."
   ]
  },
  {
   "cell_type": "code",
   "execution_count": 29,
   "metadata": {},
   "outputs": [
    {
     "data": {
      "text/html": [
       "<div>\n",
       "<style scoped>\n",
       "    .dataframe tbody tr th:only-of-type {\n",
       "        vertical-align: middle;\n",
       "    }\n",
       "\n",
       "    .dataframe tbody tr th {\n",
       "        vertical-align: top;\n",
       "    }\n",
       "\n",
       "    .dataframe thead th {\n",
       "        text-align: right;\n",
       "    }\n",
       "</style>\n",
       "<table border=\"1\" class=\"dataframe\">\n",
       "  <thead>\n",
       "    <tr style=\"text-align: right;\">\n",
       "      <th></th>\n",
       "      <th>park_name</th>\n",
       "      <th>protected</th>\n",
       "      <th>observations</th>\n",
       "    </tr>\n",
       "  </thead>\n",
       "  <tbody>\n",
       "    <tr>\n",
       "      <th>0</th>\n",
       "      <td>Bryce National Park</td>\n",
       "      <td>False</td>\n",
       "      <td>402</td>\n",
       "    </tr>\n",
       "    <tr>\n",
       "      <th>1</th>\n",
       "      <td>Bryce National Park</td>\n",
       "      <td>True</td>\n",
       "      <td>2164</td>\n",
       "    </tr>\n",
       "    <tr>\n",
       "      <th>2</th>\n",
       "      <td>Great Smoky Mountains National Park</td>\n",
       "      <td>False</td>\n",
       "      <td>316</td>\n",
       "    </tr>\n",
       "    <tr>\n",
       "      <th>3</th>\n",
       "      <td>Great Smoky Mountains National Park</td>\n",
       "      <td>True</td>\n",
       "      <td>1319</td>\n",
       "    </tr>\n",
       "    <tr>\n",
       "      <th>4</th>\n",
       "      <td>Yellowstone National Park</td>\n",
       "      <td>False</td>\n",
       "      <td>1016</td>\n",
       "    </tr>\n",
       "    <tr>\n",
       "      <th>5</th>\n",
       "      <td>Yellowstone National Park</td>\n",
       "      <td>True</td>\n",
       "      <td>4774</td>\n",
       "    </tr>\n",
       "    <tr>\n",
       "      <th>6</th>\n",
       "      <td>Yosemite National Park</td>\n",
       "      <td>False</td>\n",
       "      <td>516</td>\n",
       "    </tr>\n",
       "    <tr>\n",
       "      <th>7</th>\n",
       "      <td>Yosemite National Park</td>\n",
       "      <td>True</td>\n",
       "      <td>2871</td>\n",
       "    </tr>\n",
       "  </tbody>\n",
       "</table>\n",
       "</div>"
      ],
      "text/plain": [
       "                             park_name  protected  observations\n",
       "0                  Bryce National Park      False           402\n",
       "1                  Bryce National Park       True          2164\n",
       "2  Great Smoky Mountains National Park      False           316\n",
       "3  Great Smoky Mountains National Park       True          1319\n",
       "4            Yellowstone National Park      False          1016\n",
       "5            Yellowstone National Park       True          4774\n",
       "6               Yosemite National Park      False           516\n",
       "7               Yosemite National Park       True          2871"
      ]
     },
     "execution_count": 29,
     "metadata": {},
     "output_type": "execute_result"
    }
   ],
   "source": [
    "# To create a plot of observations by national park with a breakout of \"protected,\" I prefer a set of like-species that are all mammals.\n",
    "# I choose Myotis.\n",
    "species_info['with_myotis'] = species_info.common_names.str.contains(r\"\\bMyotis\\b\", regex = True)\n",
    "species_info['with_myotis']\n",
    "parks_with_myotis = observations.merge(species_info[species_info.with_myotis])\n",
    "nps_by_observations = parks_with_myotis.groupby(['park_name', 'protected']).observations.sum().reset_index()\n",
    "nps_by_observations"
   ]
  },
  {
   "cell_type": "markdown",
   "metadata": {},
   "source": [
    "I will create a data visualization to show where the Myotis' are better protected."
   ]
  },
  {
   "cell_type": "code",
   "execution_count": 30,
   "metadata": {},
   "outputs": [
    {
     "data": {
      "image/png": "[encoded data removed]",
      "text/plain": [
       "<Figure size 1500x700 with 1 Axes>"
      ]
     },
     "metadata": {},
     "output_type": "display_data"
    },
    {
     "data": {
      "text/plain": [
       "<Figure size 640x480 with 0 Axes>"
      ]
     },
     "metadata": {},
     "output_type": "display_data"
    }
   ],
   "source": [
    "plt.figure(figsize=(15, 7))     # Give it a wide aspect ratio.\n",
    "sns.barplot(x=nps_by_observations.park_name, y= nps_by_observations.observations, palette='summer', hue=nps_by_observations.protected)\n",
    "plt.xlabel('Park Name')\n",
    "plt.ylabel('Num of Observations')\n",
    "plt.title('How Well are Myotis Protected?')\n",
    "plt.show()\n",
    "plt.clf()"
   ]
  },
  {
   "cell_type": "markdown",
   "metadata": {},
   "source": [
    "The ratio of `protected` to non-protected is highest ay Yellowstone, followed by\n",
    "- Yosemite\n",
    "- Bryce Canyon\n",
    "- and then Great Smoky Mountains National Park"
   ]
  },
  {
   "cell_type": "code",
   "execution_count": null,
   "metadata": {},
   "outputs": [],
   "source": []
  }
 ],
 "metadata": {
  "kernelspec": {
   "display_name": "Python 3 (ipykernel)",
   "language": "python",
   "name": "python3"
  },
  "language_info": {
   "codemirror_mode": {
    "name": "ipython",
    "version": 3
   },
   "file_extension": ".py",
   "mimetype": "text/x-python",
   "name": "python",
   "nbconvert_exporter": "python",
   "pygments_lexer": "ipython3",
   "version": "3.11.5"
  }
 },
 "nbformat": 4,
 "nbformat_minor": 4
}
